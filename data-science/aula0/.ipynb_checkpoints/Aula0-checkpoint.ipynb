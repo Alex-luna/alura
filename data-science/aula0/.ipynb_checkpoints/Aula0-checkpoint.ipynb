{
 "cells": [
  {
   "cell_type": "markdown",
   "id": "faced-definition",
   "metadata": {},
   "source": [
    "### Imports"
   ]
  },
  {
   "cell_type": "code",
   "execution_count": 29,
   "id": "invalid-drama",
   "metadata": {
    "collapsed": true,
    "jupyter": {
     "outputs_hidden": true
    },
    "tags": []
   },
   "outputs": [
    {
     "name": "stdout",
     "output_type": "stream",
     "text": [
      "Collecting seaborn\n",
      "  Downloading seaborn-0.11.1-py3-none-any.whl (285 kB)\n",
      "Requirement already satisfied: pandas>=0.23 in c:\\users\\king\\miniconda3\\envs\\env\\lib\\site-packages (from seaborn) (1.2.2)\n",
      "Requirement already satisfied: matplotlib>=2.2 in c:\\users\\king\\miniconda3\\envs\\env\\lib\\site-packages (from seaborn) (3.3.4)\n",
      "Requirement already satisfied: numpy>=1.15 in c:\\users\\king\\miniconda3\\envs\\env\\lib\\site-packages (from seaborn) (1.20.1)\n",
      "Requirement already satisfied: kiwisolver>=1.0.1 in c:\\users\\king\\miniconda3\\envs\\env\\lib\\site-packages (from matplotlib>=2.2->seaborn) (1.3.1)\n",
      "Requirement already satisfied: pillow>=6.2.0 in c:\\users\\king\\miniconda3\\envs\\env\\lib\\site-packages (from matplotlib>=2.2->seaborn) (8.1.0)\n",
      "Requirement already satisfied: pyparsing!=2.0.4,!=2.1.2,!=2.1.6,>=2.0.3 in c:\\users\\king\\miniconda3\\envs\\env\\lib\\site-packages (from matplotlib>=2.2->seaborn) (2.4.7)\n",
      "Requirement already satisfied: cycler>=0.10 in c:\\users\\king\\miniconda3\\envs\\env\\lib\\site-packages (from matplotlib>=2.2->seaborn) (0.10.0)\n",
      "Requirement already satisfied: python-dateutil>=2.1 in c:\\users\\king\\miniconda3\\envs\\env\\lib\\site-packages (from matplotlib>=2.2->seaborn) (2.8.1)\n",
      "Requirement already satisfied: six in c:\\users\\king\\miniconda3\\envs\\env\\lib\\site-packages (from cycler>=0.10->matplotlib>=2.2->seaborn) (1.15.0)\n",
      "Requirement already satisfied: pytz>=2017.3 in c:\\users\\king\\miniconda3\\envs\\env\\lib\\site-packages (from pandas>=0.23->seaborn) (2021.1)\n",
      "Collecting scipy>=1.0\n",
      "  Downloading scipy-1.7.0-cp39-cp39-win_amd64.whl (33.8 MB)\n",
      "Installing collected packages: scipy, seaborn\n",
      "Successfully installed scipy-1.7.0 seaborn-0.11.1\n",
      "Note: you may need to restart the kernel to use updated packages.\n"
     ]
    }
   ],
   "source": [
    "pip install seaborn --update"
   ]
  },
  {
   "cell_type": "code",
   "execution_count": 30,
   "id": "empty-bench",
   "metadata": {},
   "outputs": [],
   "source": [
    "import pandas as pd\n",
    "import seaborn as sns"
   ]
  },
  {
   "cell_type": "markdown",
   "id": "actual-recruitment",
   "metadata": {},
   "source": [
    "### Movielens"
   ]
  },
  {
   "cell_type": "code",
   "execution_count": 6,
   "id": "upset-ultimate",
   "metadata": {},
   "outputs": [],
   "source": [
    "ratings = pd.read_csv('ratings.csv', skipinitialspace = True)"
   ]
  },
  {
   "cell_type": "code",
   "execution_count": 7,
   "id": "falling-admission",
   "metadata": {},
   "outputs": [
    {
     "data": {
      "text/html": [
       "<div>\n",
       "<style scoped>\n",
       "    .dataframe tbody tr th:only-of-type {\n",
       "        vertical-align: middle;\n",
       "    }\n",
       "\n",
       "    .dataframe tbody tr th {\n",
       "        vertical-align: top;\n",
       "    }\n",
       "\n",
       "    .dataframe thead th {\n",
       "        text-align: right;\n",
       "    }\n",
       "</style>\n",
       "<table border=\"1\" class=\"dataframe\">\n",
       "  <thead>\n",
       "    <tr style=\"text-align: right;\">\n",
       "      <th></th>\n",
       "      <th>userId</th>\n",
       "      <th>movieId</th>\n",
       "      <th>rating</th>\n",
       "      <th>timestamp</th>\n",
       "    </tr>\n",
       "  </thead>\n",
       "  <tbody>\n",
       "    <tr>\n",
       "      <th>0</th>\n",
       "      <td>1</td>\n",
       "      <td>1</td>\n",
       "      <td>4.0</td>\n",
       "      <td>964982703</td>\n",
       "    </tr>\n",
       "    <tr>\n",
       "      <th>1</th>\n",
       "      <td>1</td>\n",
       "      <td>3</td>\n",
       "      <td>4.0</td>\n",
       "      <td>964981247</td>\n",
       "    </tr>\n",
       "    <tr>\n",
       "      <th>2</th>\n",
       "      <td>1</td>\n",
       "      <td>6</td>\n",
       "      <td>4.0</td>\n",
       "      <td>964982224</td>\n",
       "    </tr>\n",
       "    <tr>\n",
       "      <th>3</th>\n",
       "      <td>1</td>\n",
       "      <td>47</td>\n",
       "      <td>5.0</td>\n",
       "      <td>964983815</td>\n",
       "    </tr>\n",
       "    <tr>\n",
       "      <th>4</th>\n",
       "      <td>1</td>\n",
       "      <td>50</td>\n",
       "      <td>5.0</td>\n",
       "      <td>964982931</td>\n",
       "    </tr>\n",
       "  </tbody>\n",
       "</table>\n",
       "</div>"
      ],
      "text/plain": [
       "   userId  movieId  rating  timestamp\n",
       "0       1        1     4.0  964982703\n",
       "1       1        3     4.0  964981247\n",
       "2       1        6     4.0  964982224\n",
       "3       1       47     5.0  964983815\n",
       "4       1       50     5.0  964982931"
      ]
     },
     "execution_count": 7,
     "metadata": {},
     "output_type": "execute_result"
    }
   ],
   "source": [
    "ratings.head()"
   ]
  },
  {
   "cell_type": "code",
   "execution_count": 24,
   "id": "statewide-arabic",
   "metadata": {},
   "outputs": [
    {
     "data": {
      "text/plain": [
       "<AxesSubplot:ylabel='Frequency'>"
      ]
     },
     "execution_count": 24,
     "metadata": {},
     "output_type": "execute_result"
    },
    {
     "data": {
      "image/png": "[encoded data removed]",
      "text/plain": [
       "<Figure size 432x288 with 1 Axes>"
      ]
     },
     "metadata": {
      "needs_background": "light"
     },
     "output_type": "display_data"
    }
   ],
   "source": [
    "ratings.loc[:,'rating'].plot(kind = 'hist')"
   ]
  },
  {
   "cell_type": "code",
   "execution_count": 27,
   "id": "norman-greenhouse",
   "metadata": {},
   "outputs": [
    {
     "data": {
      "text/plain": [
       "count    100836.000000\n",
       "mean          3.501557\n",
       "std           1.042529\n",
       "min           0.500000\n",
       "25%           3.000000\n",
       "50%           3.500000\n",
       "75%           4.000000\n",
       "max           5.000000\n",
       "Name: rating, dtype: float64"
      ]
     },
     "execution_count": 27,
     "metadata": {},
     "output_type": "execute_result"
    }
   ],
   "source": [
    "ratings.rating.describe()"
   ]
  },
  {
   "cell_type": "code",
   "execution_count": 34,
   "id": "tamil-scope",
   "metadata": {},
   "outputs": [
    {
     "name": "stderr",
     "output_type": "stream",
     "text": [
      "C:\\Users\\King\\miniconda3\\envs\\env\\lib\\site-packages\\seaborn\\_decorators.py:36: FutureWarning: Pass the following variable as a keyword arg: x. From version 0.12, the only valid positional argument will be `data`, and passing other arguments without an explicit keyword will result in an error or misinterpretation.\n",
      "  warnings.warn(\n"
     ]
    },
    {
     "data": {
      "text/plain": [
       "<AxesSubplot:xlabel='rating'>"
      ]
     },
     "execution_count": 34,
     "metadata": {},
     "output_type": "execute_result"
    },
    {
     "data": {
      "image/png": "[encoded data removed]",
      "text/plain": [
       "<Figure size 432x288 with 1 Axes>"
      ]
     },
     "metadata": {
      "needs_background": "light"
     },
     "output_type": "display_data"
    }
   ],
   "source": [
    "sns.boxplot(ratings.rating)"
   ]
  },
  {
   "cell_type": "code",
   "execution_count": 40,
   "id": "after-romania",
   "metadata": {},
   "outputs": [
    {
     "data": {
      "text/plain": [
       "31.25"
      ]
     },
     "execution_count": 40,
     "metadata": {},
     "output_type": "execute_result"
    }
   ],
   "source": [
    "750/24"
   ]
  },
  {
   "cell_type": "code",
   "execution_count": 39,
   "id": "together-conspiracy",
   "metadata": {},
   "outputs": [
    {
     "data": {
      "text/html": [
       "<div>\n",
       "<style scoped>\n",
       "    .dataframe tbody tr th:only-of-type {\n",
       "        vertical-align: middle;\n",
       "    }\n",
       "\n",
       "    .dataframe tbody tr th {\n",
       "        vertical-align: top;\n",
       "    }\n",
       "\n",
       "    .dataframe thead th {\n",
       "        text-align: right;\n",
       "    }\n",
       "</style>\n",
       "<table border=\"1\" class=\"dataframe\">\n",
       "  <thead>\n",
       "    <tr style=\"text-align: right;\">\n",
       "      <th></th>\n",
       "      <th>userId</th>\n",
       "      <th>movieId</th>\n",
       "      <th>rating</th>\n",
       "      <th>timestamp</th>\n",
       "    </tr>\n",
       "  </thead>\n",
       "  <tbody>\n",
       "    <tr>\n",
       "      <th>9684</th>\n",
       "      <td>64</td>\n",
       "      <td>2706</td>\n",
       "      <td>2.5</td>\n",
       "      <td>1161520644</td>\n",
       "    </tr>\n",
       "    <tr>\n",
       "      <th>79760</th>\n",
       "      <td>495</td>\n",
       "      <td>140523</td>\n",
       "      <td>3.5</td>\n",
       "      <td>1458634732</td>\n",
       "    </tr>\n",
       "    <tr>\n",
       "      <th>74090</th>\n",
       "      <td>474</td>\n",
       "      <td>3504</td>\n",
       "      <td>4.0</td>\n",
       "      <td>978575646</td>\n",
       "    </tr>\n",
       "    <tr>\n",
       "      <th>53195</th>\n",
       "      <td>351</td>\n",
       "      <td>91974</td>\n",
       "      <td>3.5</td>\n",
       "      <td>1328296633</td>\n",
       "    </tr>\n",
       "    <tr>\n",
       "      <th>60395</th>\n",
       "      <td>390</td>\n",
       "      <td>58559</td>\n",
       "      <td>2.5</td>\n",
       "      <td>1250335651</td>\n",
       "    </tr>\n",
       "  </tbody>\n",
       "</table>\n",
       "</div>"
      ],
      "text/plain": [
       "       userId  movieId  rating   timestamp\n",
       "9684       64     2706     2.5  1161520644\n",
       "79760     495   140523     3.5  1458634732\n",
       "74090     474     3504     4.0   978575646\n",
       "53195     351    91974     3.5  1328296633\n",
       "60395     390    58559     2.5  1250335651"
      ]
     },
     "execution_count": 39,
     "metadata": {},
     "output_type": "execute_result"
    }
   ],
   "source": [
    "ratings.sample(5)"
   ]
  },
  {
   "cell_type": "code",
   "execution_count": null,
   "id": "horizontal-fraud",
   "metadata": {},
   "outputs": [],
   "source": []
  },
  {
   "cell_type": "markdown",
   "id": "grand-reward",
   "metadata": {},
   "source": [
    "### Genarating Bar codes Ean13 numbers"
   ]
  },
  {
   "cell_type": "code",
   "execution_count": 41,
   "id": "closed-bristol",
   "metadata": {},
   "outputs": [],
   "source": [
    "import random"
   ]
  },
  {
   "cell_type": "code",
   "execution_count": 114,
   "id": "received-ensemble",
   "metadata": {},
   "outputs": [],
   "source": [
    "def random_number():\n",
    "    a = random.randrange(0,9,1)\n",
    "    b = random.randrange(0,9,1)\n",
    "    c = random.randrange(0,9,1)\n",
    "    d = random.randrange(0,9,1)\n",
    "    e = random.randrange(0,9,1)\n",
    "    f = random.randrange(0,9,1)\n",
    "    g = random.randrange(0,9,1)\n",
    "    h = random.randrange(0,9,1)\n",
    "    i = random.randrange(0,9,1)\n",
    "    j = random.randrange(0,9,1)\n",
    "    k = random.randrange(0,9,1)\n",
    "    l = random.randrange(0,9,1)\n",
    "    m = random.randrange(0,9,1)\n",
    "    return str(a)+str(b)+str(c)+str(d)+str(e)+str(f)+str(g)+str(h)+str(i)+str(j)+str(k)+str(l)+str(m)"
   ]
  },
  {
   "cell_type": "code",
   "execution_count": 124,
   "id": "broken-sympathy",
   "metadata": {},
   "outputs": [
    {
     "name": "stdout",
     "output_type": "stream",
     "text": [
      "5836203730422\n"
     ]
    }
   ],
   "source": [
    "print(random_number())"
   ]
  },
  {
   "cell_type": "code",
   "execution_count": 136,
   "id": "smaller-pottery",
   "metadata": {},
   "outputs": [
    {
     "data": {
      "text/plain": [
       "154"
      ]
     },
     "execution_count": 136,
     "metadata": {},
     "output_type": "execute_result"
    }
   ],
   "source": [
    "len(cod)"
   ]
  },
  {
   "cell_type": "code",
   "execution_count": 132,
   "id": "effective-slovak",
   "metadata": {
    "collapsed": true,
    "jupyter": {
     "outputs_hidden": true
    },
    "tags": []
   },
   "outputs": [
    {
     "data": {
      "text/plain": [
       "['3270110614270',\n",
       " '3885364848515',\n",
       " '6220432713060',\n",
       " '0314650561030',\n",
       " '1432345753362',\n",
       " '7526125821662',\n",
       " '7266131770355',\n",
       " '5116223656184',\n",
       " '8705336465033',\n",
       " '6041080710044',\n",
       " '2187414315241',\n",
       " '8538546746568',\n",
       " '5161814543131',\n",
       " '3324061270318',\n",
       " '5787867375574',\n",
       " '5256221842575',\n",
       " '5444522234056',\n",
       " '6757506320835',\n",
       " '8311232286143',\n",
       " '0004440321572',\n",
       " '5501548872543',\n",
       " '0353170067828',\n",
       " '6848450130340',\n",
       " '3313851020317',\n",
       " '7806483777212',\n",
       " '0712603216603',\n",
       " '8312230725563',\n",
       " '0625470733020',\n",
       " '7704417004310',\n",
       " '3482034121863',\n",
       " '1106288251771',\n",
       " '4351616612035',\n",
       " '8203487637687',\n",
       " '3034014547318',\n",
       " '6737346882015',\n",
       " '2823063568784',\n",
       " '6250470353541',\n",
       " '0064230776118',\n",
       " '3110042626506',\n",
       " '5644237024143',\n",
       " '3036067411267',\n",
       " '7000581532012',\n",
       " '4161535335447',\n",
       " '4870065211315',\n",
       " '1085645681411',\n",
       " '2680130013041',\n",
       " '3064315115785',\n",
       " '0705665663066',\n",
       " '1606718664253',\n",
       " '8603528617217',\n",
       " '8887710331684',\n",
       " '8101122311176',\n",
       " '4134818017066',\n",
       " '2501008103307']"
      ]
     },
     "execution_count": 132,
     "metadata": {},
     "output_type": "execute_result"
    }
   ],
   "source": [
    "cod"
   ]
  },
  {
   "cell_type": "code",
   "execution_count": 135,
   "id": "swedish-queue",
   "metadata": {
    "collapsed": true,
    "jupyter": {
     "outputs_hidden": true
    },
    "tags": []
   },
   "outputs": [
    {
     "name": "stdout",
     "output_type": "stream",
     "text": [
      "\n",
      "3270110614270\n",
      "\n",
      "3885364848515\n",
      "\n",
      "6220432713060\n",
      "\n",
      "0314650561030\n",
      "\n",
      "1432345753362\n",
      "\n",
      "7526125821662\n",
      "\n",
      "7266131770355\n",
      "\n",
      "5116223656184\n",
      "\n",
      "8705336465033\n",
      "\n",
      "6041080710044\n",
      "\n",
      "2187414315241\n",
      "\n",
      "8538546746568\n",
      "\n",
      "5161814543131\n",
      "\n",
      "3324061270318\n",
      "\n",
      "5787867375574\n",
      "\n",
      "5256221842575\n",
      "\n",
      "5444522234056\n",
      "\n",
      "6757506320835\n",
      "\n",
      "8311232286143\n",
      "\n",
      "0004440321572\n",
      "\n",
      "5501548872543\n",
      "\n",
      "0353170067828\n",
      "\n",
      "6848450130340\n",
      "\n",
      "3313851020317\n",
      "\n",
      "7806483777212\n",
      "\n",
      "0712603216603\n",
      "\n",
      "8312230725563\n",
      "\n",
      "0625470733020\n",
      "\n",
      "7704417004310\n",
      "\n",
      "3482034121863\n",
      "\n",
      "1106288251771\n",
      "\n",
      "4351616612035\n",
      "\n",
      "8203487637687\n",
      "\n",
      "3034014547318\n",
      "\n",
      "6737346882015\n",
      "\n",
      "2823063568784\n",
      "\n",
      "6250470353541\n",
      "\n",
      "0064230776118\n",
      "\n",
      "3110042626506\n",
      "\n",
      "5644237024143\n",
      "\n",
      "3036067411267\n",
      "\n",
      "7000581532012\n",
      "\n",
      "4161535335447\n",
      "\n",
      "4870065211315\n",
      "\n",
      "1085645681411\n",
      "\n",
      "2680130013041\n",
      "\n",
      "3064315115785\n",
      "\n",
      "0705665663066\n",
      "\n",
      "1606718664253\n",
      "\n",
      "8603528617217\n",
      "\n",
      "8887710331684\n",
      "\n",
      "8101122311176\n",
      "\n",
      "4134818017066\n",
      "\n",
      "2501008103307\n",
      "\n",
      "8152572880301\n",
      "\n",
      "4280567835450\n",
      "\n",
      "7462648010376\n",
      "\n",
      "3455801287867\n",
      "\n",
      "3300656450364\n",
      "\n",
      "6703768843034\n",
      "\n",
      "5414456258184\n",
      "\n",
      "0051545666236\n",
      "\n",
      "2241587520071\n",
      "\n",
      "6553120606188\n",
      "\n",
      "7072378180033\n",
      "\n",
      "2344848000648\n",
      "\n",
      "3260247831001\n",
      "\n",
      "1346640416441\n",
      "\n",
      "2227420642043\n",
      "\n",
      "0066018875422\n",
      "\n",
      "2368872847415\n",
      "\n",
      "3060474156580\n",
      "\n",
      "2858047588643\n",
      "\n",
      "1584026032723\n",
      "\n",
      "6256615833680\n",
      "\n",
      "0187266334045\n",
      "\n",
      "2037427884180\n",
      "\n",
      "8633087283273\n",
      "\n",
      "8302877727716\n",
      "\n",
      "6744878105178\n",
      "\n",
      "8256458578876\n",
      "\n",
      "4220344258836\n",
      "\n",
      "5818046280454\n",
      "\n",
      "1341780601753\n",
      "\n",
      "5056326246120\n",
      "\n",
      "6160472683447\n",
      "\n",
      "4620300747678\n",
      "\n",
      "7006843435782\n",
      "\n",
      "3061437486404\n",
      "\n",
      "0223637801744\n",
      "\n",
      "5178002302811\n",
      "\n",
      "7680448142456\n",
      "\n",
      "4318753826405\n",
      "\n",
      "4054418780757\n",
      "\n",
      "0621256185522\n",
      "\n",
      "1815001383038\n",
      "\n",
      "4284165880718\n",
      "\n",
      "3331648824737\n",
      "\n",
      "4321556100274\n",
      "\n",
      "1730647175124\n"
     ]
    }
   ],
   "source": [
    "i = 0\n",
    "for i in range(100):\n",
    "    cod.append(random_number())\n",
    "    print()\n",
    "    print(cod[i])\n",
    "    i = i+1"
   ]
  },
  {
   "cell_type": "code",
   "execution_count": 70,
   "id": "secure-conjunction",
   "metadata": {},
   "outputs": [],
   "source": [
    "i = 7125827268024"
   ]
  },
  {
   "cell_type": "code",
   "execution_count": 72,
   "id": "aggressive-plenty",
   "metadata": {},
   "outputs": [
    {
     "data": {
      "text/plain": [
       "13"
      ]
     },
     "execution_count": 72,
     "metadata": {},
     "output_type": "execute_result"
    }
   ],
   "source": [
    "len(str(i))"
   ]
  },
  {
   "cell_type": "code",
   "execution_count": 134,
   "id": "characteristic-october",
   "metadata": {},
   "outputs": [
    {
     "name": "stdout",
     "output_type": "stream",
     "text": [
      "4161535335447\n",
      "0004440321572\n",
      "0625470733020\n",
      "6848450130340\n",
      "0625470733020\n",
      "0712603216603\n",
      "6250470353541\n",
      "4351616612035\n",
      "3034014547318\n",
      "0705665663066\n",
      "5116223656184\n",
      "8203487637687\n",
      "5444522234056\n",
      "3064315115785\n",
      "3270110614270\n",
      "4870065211315\n",
      "5256221842575\n",
      "4161535335447\n"
     ]
    }
   ],
   "source": [
    "for i in range(18):\n",
    "    print(cod[random.randrange(0,100,1)])"
   ]
  },
  {
   "cell_type": "code",
   "execution_count": 138,
   "id": "graphic-numbers",
   "metadata": {},
   "outputs": [
    {
     "name": "stdout",
     "output_type": "stream",
     "text": [
      "7471511630106\n",
      "6858563551878\n",
      "7621621866412\n",
      "0717765776070\n",
      "0885655838514\n",
      "3610701347032\n",
      "8204382170576\n",
      "5267760285218\n",
      "1518063245857\n",
      "6016223682453\n",
      "1321756515164\n",
      "5842124678588\n",
      "2850333353530\n",
      "3415181253632\n",
      "3178558012818\n",
      "3610701347032\n",
      "7471511630106\n",
      "3178558012818\n"
     ]
    }
   ],
   "source": [
    "for i in range(18):\n",
    "    print(cod[random.randrange(100,150,1)])"
   ]
  },
  {
   "cell_type": "markdown",
   "id": "regulation-recorder",
   "metadata": {},
   "source": [
    "## Generating the barcodes files"
   ]
  },
  {
   "cell_type": "code",
   "execution_count": 141,
   "id": "transsexual-surfing",
   "metadata": {},
   "outputs": [
    {
     "name": "stdout",
     "output_type": "stream",
     "text": [
      "Requirement already satisfied: python-barcode in c:\\users\\king\\miniconda3\\envs\\env\\lib\\site-packages (0.13.1)\n",
      "Note: you may need to restart the kernel to use updated packages.\n"
     ]
    }
   ],
   "source": [
    "pip install python-barcode --upgrade"
   ]
  },
  {
   "cell_type": "code",
   "execution_count": 142,
   "id": "appropriate-second",
   "metadata": {},
   "outputs": [],
   "source": [
    "from barcode import EAN13"
   ]
  },
  {
   "cell_type": "code",
   "execution_count": 145,
   "id": "junior-regard",
   "metadata": {},
   "outputs": [],
   "source": [
    "bcode = EAN13(cod[58])"
   ]
  },
  {
   "cell_type": "code",
   "execution_count": 146,
   "id": "gothic-bahamas",
   "metadata": {},
   "outputs": [
    {
     "data": {
      "text/plain": [
       "'teste1.svg'"
      ]
     },
     "execution_count": 146,
     "metadata": {},
     "output_type": "execute_result"
    }
   ],
   "source": [
    "bcode.save('teste1')"
   ]
  },
  {
   "cell_type": "code",
   "execution_count": 147,
   "id": "advised-alabama",
   "metadata": {},
   "outputs": [],
   "source": [
    "codes_final = ['4161535335447','0004440321572','0625470733020','6848450130340','2850333353530','0712603216603','6250470353541',\n",
    "               '4351616612035','7471511630106','6858563551878','7621621866412','0717765776070','0885655838514','3610701347032',\n",
    "               '8204382170576','5267760285218','1518063245857','6016223682453']"
   ]
  },
  {
   "cell_type": "code",
   "execution_count": 148,
   "id": "ancient-absolute",
   "metadata": {},
   "outputs": [],
   "source": [
    "products = ['Granola Vegana','Granola de Manjericão','Granola Tradicional','Granola de Baunilha','Granola de Cacau','Kombucha de Uva',\n",
    "            'Kombucha de Cranberry com Morango','Kombucha de Capim-Santo e Gengibre','Kombucha de Erva-Cidreira e Limão','Queijo de Inhame',\n",
    "            'Brigadeiro de leite de coco','Pizza Brotinho Vegetariana','Pizza Média Vegetariana','Vegbúrguer Vegano Mix','Vegbúrguer Vegano de Feijão',\n",
    "            'Vegbúrguer Vegano de Abóbora','Vegbúrguer Vegano de Ervilha','Brigadeiro de pote (Biomassa de Banana)']"
   ]
  },
  {
   "cell_type": "code",
   "execution_count": 149,
   "id": "political-fountain",
   "metadata": {},
   "outputs": [
    {
     "data": {
      "text/plain": [
       "18"
      ]
     },
     "execution_count": 149,
     "metadata": {},
     "output_type": "execute_result"
    }
   ],
   "source": [
    "len(products)"
   ]
  },
  {
   "cell_type": "code",
   "execution_count": 150,
   "id": "respiratory-volleyball",
   "metadata": {},
   "outputs": [
    {
     "data": {
      "text/plain": [
       "18"
      ]
     },
     "execution_count": 150,
     "metadata": {},
     "output_type": "execute_result"
    }
   ],
   "source": [
    "len(codes_final)"
   ]
  },
  {
   "cell_type": "code",
   "execution_count": 154,
   "id": "private-communications",
   "metadata": {},
   "outputs": [],
   "source": [
    "inx = 0\n",
    "for i in products:\n",
    "    bcode = EAN13(codes_final[inx])\n",
    "    bcode.save(str('GN - ')+products[inx])\n",
    "    inx = inx + 1"
   ]
  },
  {
   "cell_type": "code",
   "execution_count": null,
   "id": "upper-projector",
   "metadata": {},
   "outputs": [],
   "source": []
  }
 ],
 "metadata": {
  "kernelspec": {
   "display_name": "Python 3",
   "language": "python",
   "name": "python3"
  },
  "language_info": {
   "codemirror_mode": {
    "name": "ipython",
    "version": 3
   },
   "file_extension": ".py",
   "mimetype": "text/x-python",
   "name": "python",
   "nbconvert_exporter": "python",
   "pygments_lexer": "ipython3",
   "version": "3.9.1"
  }
 },
 "nbformat": 4,
 "nbformat_minor": 5
}
